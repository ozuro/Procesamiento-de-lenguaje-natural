{
 "cells": [
  {
   "cell_type": "code",
   "execution_count": 2,
   "metadata": {},
   "outputs": [],
   "source": [
    "from chatterbot import ChatBot\n",
    "from chatterbot.trainers import ChatterBotCorpusTrainer\n",
    "#from chatterbot.comparisons import levenshtein_distance\n",
    "from chatterbot.response_selection import get_most_frequent_response\n"
   ]
  },
  {
   "cell_type": "code",
   "execution_count": 3,
   "metadata": {},
   "outputs": [
    {
     "name": "stderr",
     "output_type": "stream",
     "text": [
      "[nltk_data] Downloading package stopwords to\n",
      "[nltk_data]     C:\\Users\\alvar\\AppData\\Roaming\\nltk_data...\n",
      "[nltk_data]   Package stopwords is already up-to-date!\n",
      "[nltk_data] Downloading package averaged_perceptron_tagger to\n",
      "[nltk_data]     C:\\Users\\alvar\\AppData\\Roaming\\nltk_data...\n",
      "[nltk_data]   Package averaged_perceptron_tagger is already up-to-\n",
      "[nltk_data]       date!\n"
     ]
    }
   ],
   "source": [
    "\n",
    "chatbot =  ChatBot (\n",
    "    \"Alvaro_Bot\",\n",
    "     response_selection_method=get_most_frequent_response,\n",
    "    logic_adapters=[\n",
    "        {\n",
    "            \n",
    "            \"import_path\": \"chatterbot.logic.BestMatch\",\n",
    "            'maximum_similarity_threshold': 0.90,\n",
    "            \n",
    "            #\"statement_comparison_function\": chatterbot.comparisons.levenshtein_distance,\n",
    "            #\"response_selection_method\": chatterbot.response_selection.get_first_response\n",
    "        }\n",
    "    ],\n",
    "    \n",
    "    preprocessors=[\n",
    "        'chatterbot.preprocessors.clean_whitespace'\n",
    "    ]\n",
    ")"
   ]
  },
  {
   "cell_type": "code",
   "execution_count": 4,
   "metadata": {},
   "outputs": [
    {
     "name": "stdout",
     "output_type": "stream",
     "text": [
      "Training sueño_animales.yml: [####################] 100%\n",
      "Training tiempo.yml: [####################] 100%\n"
     ]
    }
   ],
   "source": [
    "from chatterbot.trainers import ListTrainer\n",
    "\n",
    "\n",
    "trainer = ChatterBotCorpusTrainer(chatbot)\n",
    "\n",
    "#trainer = ListTrainer(chatbot)\n",
    "#trainer.train(conversation)\n",
    "#trainer.train(\"./emociones.yml\")\n",
    "#trainer.train(\"chatterbot.corpus.spanish.conversations\")\n",
    "trainer.train(\"./sueño_animales.yml\")\n",
    "trainer.train(\"./tiempo.yml\")\n",
    "#trainer.train(\"./numeros.yml\")\n",
    "\n"
   ]
  },
  {
   "cell_type": "code",
   "execution_count": 5,
   "metadata": {},
   "outputs": [
    {
     "name": "stdout",
     "output_type": "stream",
     "text": [
      "me llamo ithan_bot\n",
      "['me llamo ithan_bot']\n",
      "me llamo ithan_bot\n"
     ]
    }
   ],
   "source": [
    "response=chatbot.get_response(\"¿como te llamas?\")\n",
    "print(response)\n",
    "response = str(response)\n",
    "x = response.split(\"#\")\n",
    "import random\n",
    "print (x)\n",
    "print ( random.choice(x))\n"
   ]
  },
  {
   "cell_type": "code",
   "execution_count": null,
   "metadata": {},
   "outputs": [
    {
     "name": "stdout",
     "output_type": "stream",
     "text": [
      "you: hola\n",
      "BOT:  que tal!\n",
      "you: como estas ?\n",
      "BOT:  Estoy bien\n",
      "you: como te llamas\n",
      "BOT:  me llamo ithan_bot\n",
      "you: que significa soñar con gato\n",
      "BOT:  si sueñas con gato sera mas intuitivo, saldra tu esencia femenina que hora soñaste.\n",
      "you: soñe de 1 a 3 de la mañana\n",
      "BOT:  Los sueños entre la una y las tres de la madrugada, segun el horario chino es la hora del higado soñar tiene que ver con temas de ira dirigida a uno mismo, purificacion y la voluntad de vivir.\n",
      "you: que significa soñar con alce \n",
      "BOT:  l\n",
      "you: ¿ que significa soñar con alce \n",
      "BOT:  significa capacidad o necesidad de tener amplitud de miras, tambien significa poderoso simbolo seual, significa poder, belleza! y dignid,a que hora soñaste.\n",
      "you: significa soñar gato\n",
      "BOT:  ¿Cómo estás?\n",
      "you: significa soñar gato?\n",
      "BOT:  ¿Alguna vez viví?\n",
      "you: quien eres?\n",
      "BOT:  soy un bot experto en decirte los significados de los sueños de los humanos.\n",
      "you: que es un perro?\n",
      "BOT:  Sí, lo es.\n"
     ]
    }
   ],
   "source": [
    "# bye para salir\n",
    "while True:\n",
    "    usuario = input(\"you: \")\n",
    "    if usuario == \"bye\":\n",
    "        print (\"BOT: Bye, fue un placer hablar contigo :)\", )\n",
    "        break;\n",
    "    respuesta = chatbot.get_response(usuario)\n",
    "    print (\"BOT: \",str( respuesta ) )"
   ]
  },
  {
   "cell_type": "code",
   "execution_count": null,
   "metadata": {},
   "outputs": [],
   "source": []
  },
  {
   "cell_type": "code",
   "execution_count": null,
   "metadata": {},
   "outputs": [],
   "source": []
  }
 ],
 "metadata": {
  "kernelspec": {
   "display_name": "Python 3",
   "language": "python",
   "name": "python3"
  },
  "language_info": {
   "codemirror_mode": {
    "name": "ipython",
    "version": 3
   },
   "file_extension": ".py",
   "mimetype": "text/x-python",
   "name": "python",
   "nbconvert_exporter": "python",
   "pygments_lexer": "ipython3",
   "version": "3.7.5"
  }
 },
 "nbformat": 4,
 "nbformat_minor": 2
}
